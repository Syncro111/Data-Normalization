{
 "cells": [
  {
   "cell_type": "code",
   "execution_count": 1,
   "id": "5f5c9279",
   "metadata": {},
   "outputs": [
    {
     "name": "stdout",
     "output_type": "stream",
     "text": [
      "Requirement already satisfied: pandas in c:\\users\\admin\\anaconda3\\lib\\site-packages (2.0.3)\n",
      "Requirement already satisfied: python-dateutil>=2.8.2 in c:\\users\\admin\\anaconda3\\lib\\site-packages (from pandas) (2.8.2)\n",
      "Requirement already satisfied: pytz>=2020.1 in c:\\users\\admin\\anaconda3\\lib\\site-packages (from pandas) (2023.3.post1)\n",
      "Requirement already satisfied: tzdata>=2022.1 in c:\\users\\admin\\anaconda3\\lib\\site-packages (from pandas) (2023.3)\n",
      "Requirement already satisfied: numpy>=1.21.0 in c:\\users\\admin\\anaconda3\\lib\\site-packages (from pandas) (1.24.3)\n",
      "Requirement already satisfied: six>=1.5 in c:\\users\\admin\\anaconda3\\lib\\site-packages (from python-dateutil>=2.8.2->pandas) (1.16.0)\n"
     ]
    }
   ],
   "source": [
    "!pip install pandas"
   ]
  },
  {
   "cell_type": "code",
   "execution_count": 2,
   "id": "ef98936e",
   "metadata": {},
   "outputs": [
    {
     "name": "stdout",
     "output_type": "stream",
     "text": [
      "Requirement already satisfied: pandas in c:\\users\\admin\\anaconda3\\lib\\site-packages (2.0.3)\n",
      "Requirement already satisfied: python-dateutil>=2.8.2 in c:\\users\\admin\\anaconda3\\lib\\site-packages (from pandas) (2.8.2)\n",
      "Requirement already satisfied: pytz>=2020.1 in c:\\users\\admin\\anaconda3\\lib\\site-packages (from pandas) (2023.3.post1)\n",
      "Requirement already satisfied: tzdata>=2022.1 in c:\\users\\admin\\anaconda3\\lib\\site-packages (from pandas) (2023.3)\n",
      "Requirement already satisfied: numpy>=1.21.0 in c:\\users\\admin\\anaconda3\\lib\\site-packages (from pandas) (1.24.3)\n",
      "Requirement already satisfied: six>=1.5 in c:\\users\\admin\\anaconda3\\lib\\site-packages (from python-dateutil>=2.8.2->pandas) (1.16.0)\n",
      "Note: you may need to restart the kernel to use updated packages.\n"
     ]
    }
   ],
   "source": [
    "pip install pandas"
   ]
  },
  {
   "cell_type": "code",
   "execution_count": 9,
   "id": "76ab3821",
   "metadata": {},
   "outputs": [],
   "source": [
    "import pandas as pd"
   ]
  },
  {
   "cell_type": "code",
   "execution_count": 10,
   "id": "220fc8b5",
   "metadata": {},
   "outputs": [],
   "source": [
    "df= pd.read_csv('Car Insurance.csv')"
   ]
  },
  {
   "cell_type": "code",
   "execution_count": 11,
   "id": "880ebf41",
   "metadata": {},
   "outputs": [],
   "source": [
    "df=pd.read_csv(r'C:\\Users\\admin\\Desktop\\MLDM\\Week 2\\Car Insurance.csv')"
   ]
  },
  {
   "cell_type": "markdown",
   "id": "6f91efc1",
   "metadata": {},
   "source": [
    "# Alternative method: Instead of uploading the dataset to the notebook’s directory, you can load the dataset to a Data Frame from its location using the following code:\n",
    "df = pd.read_csv (r'Path where the CSV file is stored\\File name.csv'"
   ]
  },
  {
   "cell_type": "code",
   "execution_count": 12,
   "id": "10f62556",
   "metadata": {},
   "outputs": [
    {
     "data": {
      "text/html": [
       "<div>\n",
       "<style scoped>\n",
       "    .dataframe tbody tr th:only-of-type {\n",
       "        vertical-align: middle;\n",
       "    }\n",
       "\n",
       "    .dataframe tbody tr th {\n",
       "        vertical-align: top;\n",
       "    }\n",
       "\n",
       "    .dataframe thead th {\n",
       "        text-align: right;\n",
       "    }\n",
       "</style>\n",
       "<table border=\"1\" class=\"dataframe\">\n",
       "  <thead>\n",
       "    <tr style=\"text-align: right;\">\n",
       "      <th></th>\n",
       "      <th>Make</th>\n",
       "      <th>Age</th>\n",
       "      <th>Mileage</th>\n",
       "      <th>Fuel</th>\n",
       "      <th>Gearbox</th>\n",
       "      <th>Colour</th>\n",
       "      <th>Claimed</th>\n",
       "    </tr>\n",
       "  </thead>\n",
       "  <tbody>\n",
       "    <tr>\n",
       "      <th>0</th>\n",
       "      <td>Toyota</td>\n",
       "      <td>2.0</td>\n",
       "      <td>27000.0</td>\n",
       "      <td>P</td>\n",
       "      <td>A</td>\n",
       "      <td>Red</td>\n",
       "      <td>Yes</td>\n",
       "    </tr>\n",
       "    <tr>\n",
       "      <th>1</th>\n",
       "      <td>Ford</td>\n",
       "      <td>4.0</td>\n",
       "      <td>30500.0</td>\n",
       "      <td>P</td>\n",
       "      <td>M</td>\n",
       "      <td>Black</td>\n",
       "      <td>Yes</td>\n",
       "    </tr>\n",
       "    <tr>\n",
       "      <th>2</th>\n",
       "      <td>Toyota</td>\n",
       "      <td>15.0</td>\n",
       "      <td>120000.0</td>\n",
       "      <td>D</td>\n",
       "      <td>A</td>\n",
       "      <td>White</td>\n",
       "      <td>No</td>\n",
       "    </tr>\n",
       "    <tr>\n",
       "      <th>3</th>\n",
       "      <td>Nissan</td>\n",
       "      <td>13.0</td>\n",
       "      <td>53000.0</td>\n",
       "      <td>D</td>\n",
       "      <td>M</td>\n",
       "      <td>White</td>\n",
       "      <td>No</td>\n",
       "    </tr>\n",
       "    <tr>\n",
       "      <th>4</th>\n",
       "      <td>Nissan</td>\n",
       "      <td>2.0</td>\n",
       "      <td>NaN</td>\n",
       "      <td>D</td>\n",
       "      <td>M</td>\n",
       "      <td>Black</td>\n",
       "      <td>No</td>\n",
       "    </tr>\n",
       "    <tr>\n",
       "      <th>5</th>\n",
       "      <td>Ford</td>\n",
       "      <td>8.0</td>\n",
       "      <td>73000.0</td>\n",
       "      <td>NaN</td>\n",
       "      <td>M</td>\n",
       "      <td>Green</td>\n",
       "      <td>No</td>\n",
       "    </tr>\n",
       "    <tr>\n",
       "      <th>6</th>\n",
       "      <td>Toyota</td>\n",
       "      <td>NaN</td>\n",
       "      <td>138000.0</td>\n",
       "      <td>P</td>\n",
       "      <td>M</td>\n",
       "      <td>NaN</td>\n",
       "      <td>Yes</td>\n",
       "    </tr>\n",
       "    <tr>\n",
       "      <th>7</th>\n",
       "      <td>Nissan</td>\n",
       "      <td>20.0</td>\n",
       "      <td>38000.0</td>\n",
       "      <td>D</td>\n",
       "      <td>NaN</td>\n",
       "      <td>Green</td>\n",
       "      <td>Yes</td>\n",
       "    </tr>\n",
       "    <tr>\n",
       "      <th>8</th>\n",
       "      <td>Toyota</td>\n",
       "      <td>13.0</td>\n",
       "      <td>67000.0</td>\n",
       "      <td>D</td>\n",
       "      <td>A</td>\n",
       "      <td>Blue</td>\n",
       "      <td>No</td>\n",
       "    </tr>\n",
       "    <tr>\n",
       "      <th>9</th>\n",
       "      <td>Nissan</td>\n",
       "      <td>7.0</td>\n",
       "      <td>36000.0</td>\n",
       "      <td>P</td>\n",
       "      <td>M</td>\n",
       "      <td>Black</td>\n",
       "      <td>Yes</td>\n",
       "    </tr>\n",
       "  </tbody>\n",
       "</table>\n",
       "</div>"
      ],
      "text/plain": [
       "     Make   Age   Mileage Fuel Gearbox Colour Claimed\n",
       "0  Toyota   2.0   27000.0    P       A    Red     Yes\n",
       "1    Ford   4.0   30500.0    P       M  Black     Yes\n",
       "2  Toyota  15.0  120000.0    D       A  White      No\n",
       "3  Nissan  13.0   53000.0    D       M  White      No\n",
       "4  Nissan   2.0       NaN    D       M  Black      No\n",
       "5    Ford   8.0   73000.0  NaN       M  Green      No\n",
       "6  Toyota   NaN  138000.0    P       M    NaN     Yes\n",
       "7  Nissan  20.0   38000.0    D     NaN  Green     Yes\n",
       "8  Toyota  13.0   67000.0    D       A   Blue      No\n",
       "9  Nissan   7.0   36000.0    P       M  Black     Yes"
      ]
     },
     "execution_count": 12,
     "metadata": {},
     "output_type": "execute_result"
    }
   ],
   "source": [
    "df"
   ]
  },
  {
   "cell_type": "markdown",
   "id": "415b9900",
   "metadata": {},
   "source": [
    "# We can use row and column indices to show the content of a cell. In addition, we can callthe column name to return a python series. DataFrame.iloc[row,col] shows the value of denoted element"
   ]
  },
  {
   "cell_type": "code",
   "execution_count": 13,
   "id": "b6fe6eea",
   "metadata": {},
   "outputs": [
    {
     "data": {
      "text/html": [
       "<div>\n",
       "<style scoped>\n",
       "    .dataframe tbody tr th:only-of-type {\n",
       "        vertical-align: middle;\n",
       "    }\n",
       "\n",
       "    .dataframe tbody tr th {\n",
       "        vertical-align: top;\n",
       "    }\n",
       "\n",
       "    .dataframe thead th {\n",
       "        text-align: right;\n",
       "    }\n",
       "</style>\n",
       "<table border=\"1\" class=\"dataframe\">\n",
       "  <thead>\n",
       "    <tr style=\"text-align: right;\">\n",
       "      <th></th>\n",
       "      <th>Make</th>\n",
       "      <th>Age</th>\n",
       "      <th>Mileage</th>\n",
       "      <th>Fuel</th>\n",
       "      <th>Gearbox</th>\n",
       "      <th>Colour</th>\n",
       "      <th>Claimed</th>\n",
       "    </tr>\n",
       "  </thead>\n",
       "  <tbody>\n",
       "    <tr>\n",
       "      <th>0</th>\n",
       "      <td>Toyota</td>\n",
       "      <td>2.0</td>\n",
       "      <td>27000.0</td>\n",
       "      <td>P</td>\n",
       "      <td>A</td>\n",
       "      <td>Red</td>\n",
       "      <td>Yes</td>\n",
       "    </tr>\n",
       "    <tr>\n",
       "      <th>1</th>\n",
       "      <td>Ford</td>\n",
       "      <td>4.0</td>\n",
       "      <td>30500.0</td>\n",
       "      <td>P</td>\n",
       "      <td>M</td>\n",
       "      <td>Black</td>\n",
       "      <td>Yes</td>\n",
       "    </tr>\n",
       "    <tr>\n",
       "      <th>2</th>\n",
       "      <td>Toyota</td>\n",
       "      <td>15.0</td>\n",
       "      <td>120000.0</td>\n",
       "      <td>D</td>\n",
       "      <td>A</td>\n",
       "      <td>White</td>\n",
       "      <td>No</td>\n",
       "    </tr>\n",
       "    <tr>\n",
       "      <th>3</th>\n",
       "      <td>Nissan</td>\n",
       "      <td>13.0</td>\n",
       "      <td>53000.0</td>\n",
       "      <td>D</td>\n",
       "      <td>M</td>\n",
       "      <td>White</td>\n",
       "      <td>No</td>\n",
       "    </tr>\n",
       "    <tr>\n",
       "      <th>4</th>\n",
       "      <td>Nissan</td>\n",
       "      <td>2.0</td>\n",
       "      <td>NaN</td>\n",
       "      <td>D</td>\n",
       "      <td>M</td>\n",
       "      <td>Black</td>\n",
       "      <td>No</td>\n",
       "    </tr>\n",
       "    <tr>\n",
       "      <th>5</th>\n",
       "      <td>Ford</td>\n",
       "      <td>8.0</td>\n",
       "      <td>73000.0</td>\n",
       "      <td>NaN</td>\n",
       "      <td>M</td>\n",
       "      <td>Green</td>\n",
       "      <td>No</td>\n",
       "    </tr>\n",
       "    <tr>\n",
       "      <th>6</th>\n",
       "      <td>Toyota</td>\n",
       "      <td>NaN</td>\n",
       "      <td>138000.0</td>\n",
       "      <td>P</td>\n",
       "      <td>M</td>\n",
       "      <td>NaN</td>\n",
       "      <td>Yes</td>\n",
       "    </tr>\n",
       "    <tr>\n",
       "      <th>7</th>\n",
       "      <td>Nissan</td>\n",
       "      <td>20.0</td>\n",
       "      <td>38000.0</td>\n",
       "      <td>D</td>\n",
       "      <td>NaN</td>\n",
       "      <td>Green</td>\n",
       "      <td>Yes</td>\n",
       "    </tr>\n",
       "    <tr>\n",
       "      <th>8</th>\n",
       "      <td>Toyota</td>\n",
       "      <td>13.0</td>\n",
       "      <td>67000.0</td>\n",
       "      <td>D</td>\n",
       "      <td>A</td>\n",
       "      <td>Blue</td>\n",
       "      <td>No</td>\n",
       "    </tr>\n",
       "    <tr>\n",
       "      <th>9</th>\n",
       "      <td>Nissan</td>\n",
       "      <td>7.0</td>\n",
       "      <td>36000.0</td>\n",
       "      <td>P</td>\n",
       "      <td>M</td>\n",
       "      <td>Black</td>\n",
       "      <td>Yes</td>\n",
       "    </tr>\n",
       "  </tbody>\n",
       "</table>\n",
       "</div>"
      ],
      "text/plain": [
       "     Make   Age   Mileage Fuel Gearbox Colour Claimed\n",
       "0  Toyota   2.0   27000.0    P       A    Red     Yes\n",
       "1    Ford   4.0   30500.0    P       M  Black     Yes\n",
       "2  Toyota  15.0  120000.0    D       A  White      No\n",
       "3  Nissan  13.0   53000.0    D       M  White      No\n",
       "4  Nissan   2.0       NaN    D       M  Black      No\n",
       "5    Ford   8.0   73000.0  NaN       M  Green      No\n",
       "6  Toyota   NaN  138000.0    P       M    NaN     Yes\n",
       "7  Nissan  20.0   38000.0    D     NaN  Green     Yes\n",
       "8  Toyota  13.0   67000.0    D       A   Blue      No\n",
       "9  Nissan   7.0   36000.0    P       M  Black     Yes"
      ]
     },
     "execution_count": 13,
     "metadata": {},
     "output_type": "execute_result"
    }
   ],
   "source": [
    "df.iloc[:,:]"
   ]
  },
  {
   "cell_type": "markdown",
   "id": "e17130e4",
   "metadata": {},
   "source": [
    "# Showing the first column"
   ]
  },
  {
   "cell_type": "code",
   "execution_count": 14,
   "id": "ab6eb7d4",
   "metadata": {},
   "outputs": [
    {
     "data": {
      "text/plain": [
       "0    Toyota\n",
       "1      Ford\n",
       "2    Toyota\n",
       "3    Nissan\n",
       "4    Nissan\n",
       "5      Ford\n",
       "6    Toyota\n",
       "7    Nissan\n",
       "8    Toyota\n",
       "9    Nissan\n",
       "Name: Make, dtype: object"
      ]
     },
     "execution_count": 14,
     "metadata": {},
     "output_type": "execute_result"
    }
   ],
   "source": [
    "df.iloc[:,0]"
   ]
  },
  {
   "cell_type": "markdown",
   "id": "e2a9f8b9",
   "metadata": {},
   "source": [
    "# Showing the second row"
   ]
  },
  {
   "cell_type": "code",
   "execution_count": 7,
   "id": "d292aaab",
   "metadata": {},
   "outputs": [
    {
     "data": {
      "text/plain": [
       "Make          Ford\n",
       "Age            4.0\n",
       "Mileage    30500.0\n",
       "Fuel             P\n",
       "Gearbox          M\n",
       "Colour       Black\n",
       "Claimed        Yes\n",
       "Name: 1, dtype: object"
      ]
     },
     "execution_count": 7,
     "metadata": {},
     "output_type": "execute_result"
    }
   ],
   "source": [
    "df.iloc[1]"
   ]
  },
  {
   "cell_type": "markdown",
   "id": "2bfdff71",
   "metadata": {},
   "source": [
    "# Calling the third element of the first column"
   ]
  },
  {
   "cell_type": "code",
   "execution_count": 8,
   "id": "24a66b0f",
   "metadata": {},
   "outputs": [
    {
     "data": {
      "text/plain": [
       "'Toyota'"
      ]
     },
     "execution_count": 8,
     "metadata": {},
     "output_type": "execute_result"
    }
   ],
   "source": [
    "df.iloc[2,0]"
   ]
  },
  {
   "cell_type": "markdown",
   "id": "75f20b6f",
   "metadata": {},
   "source": [
    "# Returning the Age column"
   ]
  },
  {
   "cell_type": "code",
   "execution_count": 9,
   "id": "1c787e80",
   "metadata": {},
   "outputs": [
    {
     "data": {
      "text/plain": [
       "0     2.0\n",
       "1     4.0\n",
       "2    15.0\n",
       "3    13.0\n",
       "4     2.0\n",
       "5     8.0\n",
       "6     NaN\n",
       "7    20.0\n",
       "8    13.0\n",
       "9     7.0\n",
       "Name: Age, dtype: float64"
      ]
     },
     "execution_count": 9,
     "metadata": {},
     "output_type": "execute_result"
    }
   ],
   "source": [
    "df.iloc[:,1]"
   ]
  },
  {
   "cell_type": "code",
   "execution_count": 10,
   "id": "cf0bc241",
   "metadata": {},
   "outputs": [
    {
     "data": {
      "text/plain": [
       "0     2.0\n",
       "1     4.0\n",
       "2    15.0\n",
       "3    13.0\n",
       "4     2.0\n",
       "5     8.0\n",
       "6     NaN\n",
       "7    20.0\n",
       "8    13.0\n",
       "9     7.0\n",
       "Name: Age, dtype: float64"
      ]
     },
     "execution_count": 10,
     "metadata": {},
     "output_type": "execute_result"
    }
   ],
   "source": [
    "df['Age']"
   ]
  },
  {
   "cell_type": "code",
   "execution_count": 11,
   "id": "8a82b593",
   "metadata": {},
   "outputs": [
    {
     "data": {
      "text/plain": [
       "0      Red\n",
       "1    Black\n",
       "2    White\n",
       "3    White\n",
       "4    Black\n",
       "5    Green\n",
       "6      NaN\n",
       "7    Green\n",
       "8     Blue\n",
       "9    Black\n",
       "Name: Colour, dtype: object"
      ]
     },
     "execution_count": 11,
     "metadata": {},
     "output_type": "execute_result"
    }
   ],
   "source": [
    "df.Colour"
   ]
  },
  {
   "cell_type": "markdown",
   "id": "66479143",
   "metadata": {},
   "source": [
    "# Listing the unique values of the first column"
   ]
  },
  {
   "cell_type": "code",
   "execution_count": 13,
   "id": "5670ccc3",
   "metadata": {},
   "outputs": [
    {
     "data": {
      "text/plain": [
       "array(['Toyota', 'Ford', 'Nissan'], dtype=object)"
      ]
     },
     "execution_count": 13,
     "metadata": {},
     "output_type": "execute_result"
    }
   ],
   "source": [
    "df.iloc[:,0].unique()"
   ]
  },
  {
   "cell_type": "markdown",
   "id": "efaaec06",
   "metadata": {},
   "source": [
    "# Counting each value in the frist column"
   ]
  },
  {
   "cell_type": "code",
   "execution_count": 15,
   "id": "5989a1a5",
   "metadata": {},
   "outputs": [
    {
     "data": {
      "text/plain": [
       "Make\n",
       "Toyota    4\n",
       "Nissan    4\n",
       "Ford      2\n",
       "Name: count, dtype: int64"
      ]
     },
     "execution_count": 15,
     "metadata": {},
     "output_type": "execute_result"
    }
   ],
   "source": [
    "df.iloc[:,0].value_counts()"
   ]
  },
  {
   "cell_type": "markdown",
   "id": "af252723",
   "metadata": {},
   "source": [
    "# Checking where (in which rows) ‘Nissan’ exists in the first column?"
   ]
  },
  {
   "cell_type": "code",
   "execution_count": 15,
   "id": "8f8cb163",
   "metadata": {},
   "outputs": [
    {
     "data": {
      "text/plain": [
       "0    False\n",
       "1    False\n",
       "2    False\n",
       "3     True\n",
       "4     True\n",
       "5    False\n",
       "6    False\n",
       "7     True\n",
       "8    False\n",
       "9     True\n",
       "Name: Make, dtype: bool"
      ]
     },
     "execution_count": 15,
     "metadata": {},
     "output_type": "execute_result"
    }
   ],
   "source": [
    "df.iloc[:,0].isin(['Nissan'])"
   ]
  },
  {
   "cell_type": "markdown",
   "id": "f761c345",
   "metadata": {},
   "source": [
    "# Sorting ascendingly the data frame based on values of the second column"
   ]
  },
  {
   "cell_type": "code",
   "execution_count": 16,
   "id": "36f3bb00",
   "metadata": {},
   "outputs": [
    {
     "data": {
      "text/plain": [
       "7    20.0\n",
       "2    15.0\n",
       "3    13.0\n",
       "8    13.0\n",
       "5     8.0\n",
       "9     7.0\n",
       "1     4.0\n",
       "0     2.0\n",
       "4     2.0\n",
       "6     NaN\n",
       "Name: Age, dtype: float64"
      ]
     },
     "execution_count": 16,
     "metadata": {},
     "output_type": "execute_result"
    }
   ],
   "source": [
    "df.iloc[:,1].sort_values(ascending=False)"
   ]
  },
  {
   "cell_type": "markdown",
   "id": "0f9306dd",
   "metadata": {},
   "source": [
    "# Checking whether the second column has any null value"
   ]
  },
  {
   "cell_type": "code",
   "execution_count": 16,
   "id": "de5170c8",
   "metadata": {},
   "outputs": [
    {
     "data": {
      "text/plain": [
       "True"
      ]
     },
     "execution_count": 16,
     "metadata": {},
     "output_type": "execute_result"
    }
   ],
   "source": [
    "df.iloc[:,1].isnull().values.any()"
   ]
  },
  {
   "cell_type": "code",
   "execution_count": 18,
   "id": "4a5b327a",
   "metadata": {},
   "outputs": [
    {
     "data": {
      "text/plain": [
       "2.0"
      ]
     },
     "execution_count": 18,
     "metadata": {},
     "output_type": "execute_result"
    }
   ],
   "source": [
    "df.iloc[:,1].min()"
   ]
  },
  {
   "cell_type": "code",
   "execution_count": 19,
   "id": "40ecac42",
   "metadata": {},
   "outputs": [
    {
     "data": {
      "text/plain": [
       "20.0"
      ]
     },
     "execution_count": 19,
     "metadata": {},
     "output_type": "execute_result"
    }
   ],
   "source": [
    "df['Age'].max()"
   ]
  },
  {
   "cell_type": "code",
   "execution_count": 20,
   "id": "7c04121e",
   "metadata": {},
   "outputs": [
    {
     "data": {
      "text/plain": [
       "9.333333333333334"
      ]
     },
     "execution_count": 20,
     "metadata": {},
     "output_type": "execute_result"
    }
   ],
   "source": [
    "df['Age'].mean()"
   ]
  },
  {
   "cell_type": "markdown",
   "id": "c5be4dcc",
   "metadata": {},
   "source": [
    "# Missing Values"
   ]
  },
  {
   "cell_type": "code",
   "execution_count": 21,
   "id": "4a8ed4f8",
   "metadata": {},
   "outputs": [
    {
     "data": {
      "text/html": [
       "<div>\n",
       "<style scoped>\n",
       "    .dataframe tbody tr th:only-of-type {\n",
       "        vertical-align: middle;\n",
       "    }\n",
       "\n",
       "    .dataframe tbody tr th {\n",
       "        vertical-align: top;\n",
       "    }\n",
       "\n",
       "    .dataframe thead th {\n",
       "        text-align: right;\n",
       "    }\n",
       "</style>\n",
       "<table border=\"1\" class=\"dataframe\">\n",
       "  <thead>\n",
       "    <tr style=\"text-align: right;\">\n",
       "      <th></th>\n",
       "      <th>Make</th>\n",
       "      <th>Age</th>\n",
       "      <th>Mileage</th>\n",
       "      <th>Fuel</th>\n",
       "      <th>Gearbox</th>\n",
       "      <th>Colour</th>\n",
       "      <th>Claimed</th>\n",
       "    </tr>\n",
       "  </thead>\n",
       "  <tbody>\n",
       "    <tr>\n",
       "      <th>0</th>\n",
       "      <td>Toyota</td>\n",
       "      <td>2.0</td>\n",
       "      <td>27000.0</td>\n",
       "      <td>P</td>\n",
       "      <td>A</td>\n",
       "      <td>Red</td>\n",
       "      <td>Yes</td>\n",
       "    </tr>\n",
       "    <tr>\n",
       "      <th>1</th>\n",
       "      <td>Ford</td>\n",
       "      <td>4.0</td>\n",
       "      <td>30500.0</td>\n",
       "      <td>P</td>\n",
       "      <td>M</td>\n",
       "      <td>Black</td>\n",
       "      <td>Yes</td>\n",
       "    </tr>\n",
       "    <tr>\n",
       "      <th>2</th>\n",
       "      <td>Toyota</td>\n",
       "      <td>15.0</td>\n",
       "      <td>120000.0</td>\n",
       "      <td>D</td>\n",
       "      <td>A</td>\n",
       "      <td>White</td>\n",
       "      <td>No</td>\n",
       "    </tr>\n",
       "    <tr>\n",
       "      <th>3</th>\n",
       "      <td>Nissan</td>\n",
       "      <td>13.0</td>\n",
       "      <td>53000.0</td>\n",
       "      <td>D</td>\n",
       "      <td>M</td>\n",
       "      <td>White</td>\n",
       "      <td>No</td>\n",
       "    </tr>\n",
       "    <tr>\n",
       "      <th>4</th>\n",
       "      <td>Nissan</td>\n",
       "      <td>2.0</td>\n",
       "      <td>NaN</td>\n",
       "      <td>D</td>\n",
       "      <td>M</td>\n",
       "      <td>Black</td>\n",
       "      <td>No</td>\n",
       "    </tr>\n",
       "    <tr>\n",
       "      <th>5</th>\n",
       "      <td>Ford</td>\n",
       "      <td>8.0</td>\n",
       "      <td>73000.0</td>\n",
       "      <td>NaN</td>\n",
       "      <td>M</td>\n",
       "      <td>Green</td>\n",
       "      <td>No</td>\n",
       "    </tr>\n",
       "    <tr>\n",
       "      <th>6</th>\n",
       "      <td>Toyota</td>\n",
       "      <td>NaN</td>\n",
       "      <td>138000.0</td>\n",
       "      <td>P</td>\n",
       "      <td>M</td>\n",
       "      <td>NaN</td>\n",
       "      <td>Yes</td>\n",
       "    </tr>\n",
       "    <tr>\n",
       "      <th>7</th>\n",
       "      <td>Nissan</td>\n",
       "      <td>20.0</td>\n",
       "      <td>38000.0</td>\n",
       "      <td>D</td>\n",
       "      <td>NaN</td>\n",
       "      <td>Green</td>\n",
       "      <td>Yes</td>\n",
       "    </tr>\n",
       "    <tr>\n",
       "      <th>8</th>\n",
       "      <td>Toyota</td>\n",
       "      <td>13.0</td>\n",
       "      <td>67000.0</td>\n",
       "      <td>D</td>\n",
       "      <td>A</td>\n",
       "      <td>Blue</td>\n",
       "      <td>No</td>\n",
       "    </tr>\n",
       "    <tr>\n",
       "      <th>9</th>\n",
       "      <td>Nissan</td>\n",
       "      <td>7.0</td>\n",
       "      <td>36000.0</td>\n",
       "      <td>P</td>\n",
       "      <td>M</td>\n",
       "      <td>Black</td>\n",
       "      <td>Yes</td>\n",
       "    </tr>\n",
       "  </tbody>\n",
       "</table>\n",
       "</div>"
      ],
      "text/plain": [
       "     Make   Age   Mileage Fuel Gearbox Colour Claimed\n",
       "0  Toyota   2.0   27000.0    P       A    Red     Yes\n",
       "1    Ford   4.0   30500.0    P       M  Black     Yes\n",
       "2  Toyota  15.0  120000.0    D       A  White      No\n",
       "3  Nissan  13.0   53000.0    D       M  White      No\n",
       "4  Nissan   2.0       NaN    D       M  Black      No\n",
       "5    Ford   8.0   73000.0  NaN       M  Green      No\n",
       "6  Toyota   NaN  138000.0    P       M    NaN     Yes\n",
       "7  Nissan  20.0   38000.0    D     NaN  Green     Yes\n",
       "8  Toyota  13.0   67000.0    D       A   Blue      No\n",
       "9  Nissan   7.0   36000.0    P       M  Black     Yes"
      ]
     },
     "execution_count": 21,
     "metadata": {},
     "output_type": "execute_result"
    }
   ],
   "source": [
    "df.iloc[:,:]"
   ]
  },
  {
   "cell_type": "markdown",
   "id": "8c6f9647",
   "metadata": {},
   "source": [
    "# Checking which columns contain null values."
   ]
  },
  {
   "cell_type": "code",
   "execution_count": 17,
   "id": "614d972d",
   "metadata": {},
   "outputs": [
    {
     "data": {
      "text/plain": [
       "Make       0\n",
       "Age        1\n",
       "Mileage    1\n",
       "Fuel       1\n",
       "Gearbox    1\n",
       "Colour     1\n",
       "Claimed    0\n",
       "dtype: int64"
      ]
     },
     "execution_count": 17,
     "metadata": {},
     "output_type": "execute_result"
    }
   ],
   "source": [
    "df.isnull().sum()"
   ]
  },
  {
   "cell_type": "code",
   "execution_count": 19,
   "id": "d8018e16",
   "metadata": {},
   "outputs": [
    {
     "name": "stdout",
     "output_type": "stream",
     "text": [
      "Requirement already satisfied: scikit-learn in c:\\users\\admin\\anaconda3\\lib\\site-packages (1.3.0)\n",
      "Requirement already satisfied: numpy>=1.17.3 in c:\\users\\admin\\anaconda3\\lib\\site-packages (from scikit-learn) (1.24.3)\n",
      "Requirement already satisfied: scipy>=1.5.0 in c:\\users\\admin\\anaconda3\\lib\\site-packages (from scikit-learn) (1.11.1)\n",
      "Requirement already satisfied: joblib>=1.1.1 in c:\\users\\admin\\anaconda3\\lib\\site-packages (from scikit-learn) (1.2.0)\n",
      "Requirement already satisfied: threadpoolctl>=2.0.0 in c:\\users\\admin\\anaconda3\\lib\\site-packages (from scikit-learn) (2.2.0)\n"
     ]
    }
   ],
   "source": [
    "!pip install scikit-learn"
   ]
  },
  {
   "cell_type": "code",
   "execution_count": 5,
   "id": "3491a6fa",
   "metadata": {},
   "outputs": [],
   "source": [
    "from sklearn.impute import SimpleImputer"
   ]
  },
  {
   "cell_type": "markdown",
   "id": "9f3fe247",
   "metadata": {},
   "source": [
    "# As Age and Mileage are numerical and contain null values, we can use SimpleImputer to estimate the null value. "
   ]
  },
  {
   "cell_type": "code",
   "execution_count": 20,
   "id": "3ad9cec2",
   "metadata": {},
   "outputs": [
    {
     "data": {
      "text/plain": [
       "array([[2.00000000e+00, 2.70000000e+04],\n",
       "       [4.00000000e+00, 3.05000000e+04],\n",
       "       [1.50000000e+01, 1.20000000e+05],\n",
       "       [1.30000000e+01, 5.30000000e+04],\n",
       "       [2.00000000e+00, 6.47222222e+04],\n",
       "       [8.00000000e+00, 7.30000000e+04],\n",
       "       [9.33333333e+00, 1.38000000e+05],\n",
       "       [2.00000000e+01, 3.80000000e+04],\n",
       "       [1.30000000e+01, 6.70000000e+04],\n",
       "       [7.00000000e+00, 3.60000000e+04]])"
      ]
     },
     "execution_count": 20,
     "metadata": {},
     "output_type": "execute_result"
    }
   ],
   "source": [
    "# numerical variable\n",
    "#Strategies: mean, median, most_frequent, constant\n",
    "\n",
    "import numpy as np\n",
    "numImputer = SimpleImputer(missing_values=np.nan, strategy='mean')\n",
    "numImputer = numImputer.fit(df[['Age', 'Mileage']])\n",
    "new_serr=numImputer.transform(df[['Age', 'Mileage']])\n",
    "new_serr\n",
    "                                   "
   ]
  },
  {
   "cell_type": "code",
   "execution_count": 21,
   "id": "fbd945e0",
   "metadata": {},
   "outputs": [
    {
     "data": {
      "text/plain": [
       "array([[2.00e+00, 2.70e+04],\n",
       "       [4.00e+00, 3.05e+04],\n",
       "       [1.50e+01, 1.20e+05],\n",
       "       [1.30e+01, 5.30e+04],\n",
       "       [2.00e+00, 5.30e+04],\n",
       "       [8.00e+00, 7.30e+04],\n",
       "       [8.00e+00, 1.38e+05],\n",
       "       [2.00e+01, 3.80e+04],\n",
       "       [1.30e+01, 6.70e+04],\n",
       "       [7.00e+00, 3.60e+04]])"
      ]
     },
     "execution_count": 21,
     "metadata": {},
     "output_type": "execute_result"
    }
   ],
   "source": [
    "# numerical variable\n",
    "#Strategies: mean, median, most_frequent, constant\n",
    "\n",
    "import numpy as np\n",
    "numImputer = SimpleImputer(missing_values=np.nan, strategy='median')\n",
    "numImputer = numImputer.fit(df[['Age', 'Mileage']])\n",
    "new_serr=numImputer.transform(df[['Age', 'Mileage']])\n",
    "new_serr\n",
    "                              "
   ]
  },
  {
   "cell_type": "code",
   "execution_count": 22,
   "id": "a0f6327e",
   "metadata": {},
   "outputs": [
    {
     "data": {
      "text/plain": [
       "array([[2.00e+00, 2.70e+04],\n",
       "       [4.00e+00, 3.05e+04],\n",
       "       [1.50e+01, 1.20e+05],\n",
       "       [1.30e+01, 5.30e+04],\n",
       "       [2.00e+00, 2.70e+04],\n",
       "       [8.00e+00, 7.30e+04],\n",
       "       [2.00e+00, 1.38e+05],\n",
       "       [2.00e+01, 3.80e+04],\n",
       "       [1.30e+01, 6.70e+04],\n",
       "       [7.00e+00, 3.60e+04]])"
      ]
     },
     "execution_count": 22,
     "metadata": {},
     "output_type": "execute_result"
    }
   ],
   "source": [
    "# numerical variable\n",
    "#Strategies: mean, median, most_frequent, constant\n",
    "\n",
    "import numpy as np\n",
    "numImputer = SimpleImputer(missing_values=np.nan, strategy='most_frequent')\n",
    "numImputer = numImputer.fit(df[['Age', 'Mileage']])\n",
    "new_serr=numImputer.transform(df[['Age', 'Mileage']])\n",
    "new_serr\n",
    "                              "
   ]
  },
  {
   "cell_type": "code",
   "execution_count": 32,
   "id": "9e222275",
   "metadata": {},
   "outputs": [
    {
     "data": {
      "text/plain": [
       "array([[ 2.00e+00,  2.70e+04],\n",
       "       [ 4.00e+00,  3.05e+04],\n",
       "       [ 1.50e+01,  1.20e+05],\n",
       "       [ 1.30e+01,  5.30e+04],\n",
       "       [ 2.00e+00, -1.00e+00],\n",
       "       [ 8.00e+00,  7.30e+04],\n",
       "       [-1.00e+00,  1.38e+05],\n",
       "       [ 2.00e+01,  3.80e+04],\n",
       "       [ 1.30e+01,  6.70e+04],\n",
       "       [ 7.00e+00,  3.60e+04]])"
      ]
     },
     "execution_count": 32,
     "metadata": {},
     "output_type": "execute_result"
    }
   ],
   "source": [
    "# numerical variable\n",
    "#Strategies: mean, median, most_frequent, constant\n",
    "\n",
    "import numpy as np\n",
    "numImputer = SimpleImputer(missing_values=np.nan, strategy='constant',fill_value=-1)\n",
    "numImputer = numImputer.fit(df[['Age', 'Mileage']])\n",
    "new_serr=numImputer.transform(df[['Age', 'Mileage']])\n",
    "new_serr\n",
    "                              "
   ]
  },
  {
   "cell_type": "markdown",
   "id": "808d09cf",
   "metadata": {},
   "source": [
    "# For the categorical variables the most frequent and constant strategies are applicable"
   ]
  },
  {
   "cell_type": "code",
   "execution_count": 37,
   "id": "bfab6422",
   "metadata": {},
   "outputs": [
    {
     "data": {
      "text/plain": [
       "array([['P', 'A', 'Red'],\n",
       "       ['P', 'M', 'Black'],\n",
       "       ['D', 'A', 'White'],\n",
       "       ['D', 'M', 'White'],\n",
       "       ['D', 'M', 'Black'],\n",
       "       ['D', 'M', 'Green'],\n",
       "       ['P', 'M', 'Black'],\n",
       "       ['D', 'M', 'Green'],\n",
       "       ['D', 'A', 'Blue'],\n",
       "       ['P', 'M', 'Black']], dtype=object)"
      ]
     },
     "execution_count": 37,
     "metadata": {},
     "output_type": "execute_result"
    }
   ],
   "source": [
    "# categorical variables\n",
    "#strategies: most_frequent, constant\n",
    "catImputer = SimpleImputer(missing_values=np.nan, strategy='most_frequent')\n",
    "catImputer = catImputer.fit(df[['Fuel','Gearbox','Colour']])\n",
    "new_serr=catImputer.transform(df[['Fuel','Gearbox','Colour']])\n",
    "new_serr"
   ]
  },
  {
   "cell_type": "code",
   "execution_count": 39,
   "id": "a33c5890",
   "metadata": {},
   "outputs": [
    {
     "data": {
      "text/plain": [
       "array([['P', 'A', 'Red'],\n",
       "       ['P', 'M', 'Black'],\n",
       "       ['D', 'A', 'White'],\n",
       "       ['D', 'M', 'White'],\n",
       "       ['D', 'M', 'Black'],\n",
       "       ['Red', 'M', 'Green'],\n",
       "       ['P', 'M', 'Red'],\n",
       "       ['D', 'Red', 'Green'],\n",
       "       ['D', 'A', 'Blue'],\n",
       "       ['P', 'M', 'Black']], dtype=object)"
      ]
     },
     "execution_count": 39,
     "metadata": {},
     "output_type": "execute_result"
    }
   ],
   "source": [
    "# categorical variables\n",
    "#strategies: most_frequent, constant\n",
    "catImputer = SimpleImputer(missing_values=np.nan, strategy='constant', fill_value='Red')\n",
    "catImputer = catImputer.fit(df[['Fuel','Gearbox','Colour']])\n",
    "new_serr=catImputer.transform(df[['Fuel','Gearbox','Colour']])\n",
    "new_serr"
   ]
  },
  {
   "cell_type": "code",
   "execution_count": 23,
   "id": "149ea111",
   "metadata": {},
   "outputs": [
    {
     "data": {
      "text/html": [
       "<div>\n",
       "<style scoped>\n",
       "    .dataframe tbody tr th:only-of-type {\n",
       "        vertical-align: middle;\n",
       "    }\n",
       "\n",
       "    .dataframe tbody tr th {\n",
       "        vertical-align: top;\n",
       "    }\n",
       "\n",
       "    .dataframe thead th {\n",
       "        text-align: right;\n",
       "    }\n",
       "</style>\n",
       "<table border=\"1\" class=\"dataframe\">\n",
       "  <thead>\n",
       "    <tr style=\"text-align: right;\">\n",
       "      <th></th>\n",
       "      <th>Make</th>\n",
       "      <th>Age</th>\n",
       "      <th>Mileage</th>\n",
       "      <th>Fuel</th>\n",
       "      <th>Gearbox</th>\n",
       "      <th>Colour</th>\n",
       "      <th>Claimed</th>\n",
       "    </tr>\n",
       "  </thead>\n",
       "  <tbody>\n",
       "    <tr>\n",
       "      <th>0</th>\n",
       "      <td>Toyota</td>\n",
       "      <td>2.000000</td>\n",
       "      <td>27000.000000</td>\n",
       "      <td>P</td>\n",
       "      <td>A</td>\n",
       "      <td>Red</td>\n",
       "      <td>Yes</td>\n",
       "    </tr>\n",
       "    <tr>\n",
       "      <th>1</th>\n",
       "      <td>Ford</td>\n",
       "      <td>4.000000</td>\n",
       "      <td>30500.000000</td>\n",
       "      <td>P</td>\n",
       "      <td>M</td>\n",
       "      <td>Black</td>\n",
       "      <td>Yes</td>\n",
       "    </tr>\n",
       "    <tr>\n",
       "      <th>2</th>\n",
       "      <td>Toyota</td>\n",
       "      <td>15.000000</td>\n",
       "      <td>120000.000000</td>\n",
       "      <td>D</td>\n",
       "      <td>A</td>\n",
       "      <td>White</td>\n",
       "      <td>No</td>\n",
       "    </tr>\n",
       "    <tr>\n",
       "      <th>3</th>\n",
       "      <td>Nissan</td>\n",
       "      <td>13.000000</td>\n",
       "      <td>53000.000000</td>\n",
       "      <td>D</td>\n",
       "      <td>M</td>\n",
       "      <td>White</td>\n",
       "      <td>No</td>\n",
       "    </tr>\n",
       "    <tr>\n",
       "      <th>4</th>\n",
       "      <td>Nissan</td>\n",
       "      <td>2.000000</td>\n",
       "      <td>64722.222222</td>\n",
       "      <td>D</td>\n",
       "      <td>M</td>\n",
       "      <td>Black</td>\n",
       "      <td>No</td>\n",
       "    </tr>\n",
       "    <tr>\n",
       "      <th>5</th>\n",
       "      <td>Ford</td>\n",
       "      <td>8.000000</td>\n",
       "      <td>73000.000000</td>\n",
       "      <td>D</td>\n",
       "      <td>M</td>\n",
       "      <td>Green</td>\n",
       "      <td>No</td>\n",
       "    </tr>\n",
       "    <tr>\n",
       "      <th>6</th>\n",
       "      <td>Toyota</td>\n",
       "      <td>9.333333</td>\n",
       "      <td>138000.000000</td>\n",
       "      <td>P</td>\n",
       "      <td>M</td>\n",
       "      <td>Black</td>\n",
       "      <td>Yes</td>\n",
       "    </tr>\n",
       "    <tr>\n",
       "      <th>7</th>\n",
       "      <td>Nissan</td>\n",
       "      <td>20.000000</td>\n",
       "      <td>38000.000000</td>\n",
       "      <td>D</td>\n",
       "      <td>M</td>\n",
       "      <td>Green</td>\n",
       "      <td>Yes</td>\n",
       "    </tr>\n",
       "    <tr>\n",
       "      <th>8</th>\n",
       "      <td>Toyota</td>\n",
       "      <td>13.000000</td>\n",
       "      <td>67000.000000</td>\n",
       "      <td>D</td>\n",
       "      <td>A</td>\n",
       "      <td>Blue</td>\n",
       "      <td>No</td>\n",
       "    </tr>\n",
       "    <tr>\n",
       "      <th>9</th>\n",
       "      <td>Nissan</td>\n",
       "      <td>7.000000</td>\n",
       "      <td>36000.000000</td>\n",
       "      <td>P</td>\n",
       "      <td>M</td>\n",
       "      <td>Black</td>\n",
       "      <td>Yes</td>\n",
       "    </tr>\n",
       "  </tbody>\n",
       "</table>\n",
       "</div>"
      ],
      "text/plain": [
       "     Make        Age        Mileage Fuel Gearbox Colour Claimed\n",
       "0  Toyota   2.000000   27000.000000    P       A    Red     Yes\n",
       "1    Ford   4.000000   30500.000000    P       M  Black     Yes\n",
       "2  Toyota  15.000000  120000.000000    D       A  White      No\n",
       "3  Nissan  13.000000   53000.000000    D       M  White      No\n",
       "4  Nissan   2.000000   64722.222222    D       M  Black      No\n",
       "5    Ford   8.000000   73000.000000    D       M  Green      No\n",
       "6  Toyota   9.333333  138000.000000    P       M  Black     Yes\n",
       "7  Nissan  20.000000   38000.000000    D       M  Green     Yes\n",
       "8  Toyota  13.000000   67000.000000    D       A   Blue      No\n",
       "9  Nissan   7.000000   36000.000000    P       M  Black     Yes"
      ]
     },
     "execution_count": 23,
     "metadata": {},
     "output_type": "execute_result"
    }
   ],
   "source": [
    "# All together\n",
    "numImputer = SimpleImputer(missing_values=np.nan, strategy='mean')\n",
    "numImputer = numImputer.fit(df[['Age', 'Mileage']])\n",
    "df[['Age', 'Mileage']]=numImputer.transform(df[['Age', 'Mileage']])\n",
    "catImputer = SimpleImputer(missing_values=np.nan, strategy= 'most_frequent')\n",
    "catImputer = catImputer.fit(df[['Fuel','Gearbox', 'Colour']])\n",
    "df[['Fuel', 'Gearbox', 'Colour']]=catImputer.transform(df[['Fuel', 'Gearbox', 'Colour']])\n",
    "df"
   ]
  },
  {
   "cell_type": "markdown",
   "id": "1e11b7fd",
   "metadata": {},
   "source": [
    "# Categorical Data\n",
    "\n",
    "To convert categorical features to integer codes, the OrdinalEncoder is an option"
   ]
  },
  {
   "cell_type": "code",
   "execution_count": 29,
   "id": "dc30ad36",
   "metadata": {},
   "outputs": [
    {
     "data": {
      "text/plain": [
       "array([[2., 1., 0., 3., 1.],\n",
       "       [0., 1., 1., 0., 1.],\n",
       "       [2., 0., 0., 4., 0.],\n",
       "       [1., 0., 1., 4., 0.],\n",
       "       [1., 0., 1., 0., 0.],\n",
       "       [0., 0., 1., 2., 0.],\n",
       "       [2., 1., 1., 0., 1.],\n",
       "       [1., 0., 1., 2., 1.],\n",
       "       [2., 0., 0., 1., 0.],\n",
       "       [1., 1., 1., 0., 1.]])"
      ]
     },
     "execution_count": 29,
     "metadata": {},
     "output_type": "execute_result"
    }
   ],
   "source": [
    "from sklearn import preprocessing\n",
    "enc = preprocessing.OrdinalEncoder()\n",
    "enc.fit_transform(df[['Make', 'Fuel', 'Gearbox', 'Colour', 'Claimed']])"
   ]
  },
  {
   "cell_type": "code",
   "execution_count": 30,
   "id": "84d92fff",
   "metadata": {},
   "outputs": [
    {
     "data": {
      "text/plain": [
       "array([[0., 1., 1., 0., 0., 0., 1., 0., 1.],\n",
       "       [0., 0., 1., 1., 0., 0., 0., 0., 1.],\n",
       "       [0., 1., 0., 0., 0., 0., 0., 1., 0.],\n",
       "       [1., 0., 0., 1., 0., 0., 0., 1., 0.],\n",
       "       [1., 0., 0., 1., 0., 0., 0., 0., 0.],\n",
       "       [0., 0., 0., 1., 0., 1., 0., 0., 0.],\n",
       "       [0., 1., 1., 1., 0., 0., 0., 0., 1.],\n",
       "       [1., 0., 0., 1., 0., 1., 0., 0., 1.],\n",
       "       [0., 1., 0., 0., 1., 0., 0., 0., 0.],\n",
       "       [1., 0., 1., 1., 0., 0., 0., 0., 1.]])"
      ]
     },
     "execution_count": 30,
     "metadata": {},
     "output_type": "execute_result"
    }
   ],
   "source": [
    "enc= preprocessing.OneHotEncoder(drop='first')\n",
    "enc.fit_transform(df[['Make', 'Fuel', 'Gearbox', 'Colour', 'Claimed']]).toarray()"
   ]
  },
  {
   "cell_type": "code",
   "execution_count": 31,
   "id": "08b41638",
   "metadata": {},
   "outputs": [
    {
     "data": {
      "text/plain": [
       "[array(['Ford', 'Nissan', 'Toyota'], dtype=object),\n",
       " array(['D', 'P'], dtype=object),\n",
       " array(['A', 'M'], dtype=object),\n",
       " array(['Black', 'Blue', 'Green', 'Red', 'White'], dtype=object),\n",
       " array(['No', 'Yes'], dtype=object)]"
      ]
     },
     "execution_count": 31,
     "metadata": {},
     "output_type": "execute_result"
    }
   ],
   "source": [
    "enc.categories_"
   ]
  },
  {
   "cell_type": "markdown",
   "id": "d9d807e2",
   "metadata": {},
   "source": [
    "# Now the data can be normalized since it does not have any null values (standardization) using StandardScaler"
   ]
  },
  {
   "cell_type": "markdown",
   "id": "7919bd26",
   "metadata": {},
   "source": [
    "# To convert all variables in the dataset"
   ]
  },
  {
   "cell_type": "code",
   "execution_count": 33,
   "id": "0d89146d",
   "metadata": {},
   "outputs": [],
   "source": [
    "# All together\n",
    "\n",
    "# target variable, it just uses the ordinal encoder\n",
    "enc= preprocessing.OrdinalEncoder()\n",
    "df['Claimed']=enc.fit_transform(df['Claimed'].values.reshape(-1,1))\n",
    "\n",
    "#input variables one hot encoding\n",
    "enc= preprocessing.OneHotEncoder(drop='first')\n",
    "onehots = enc.fit_transform(df[['Make', 'Fuel', 'Gearbox', 'Colour']]).toarray()\n",
    "# creating the new df\n",
    "cols = []\n",
    "for i in enc.categories_:\n",
    "    i = np. delete(i,0)\n",
    "    cols.extend(i)\n",
    "df= df.join(pd.DataFrame(onehots, columns=cols))\n",
    "\n",
    "df= df.drop(['Make', 'Fuel', 'Gearbox', 'Colour'], axis=1)"
   ]
  },
  {
   "cell_type": "code",
   "execution_count": 34,
   "id": "2d754fad",
   "metadata": {},
   "outputs": [
    {
     "data": {
      "text/html": [
       "<div>\n",
       "<style scoped>\n",
       "    .dataframe tbody tr th:only-of-type {\n",
       "        vertical-align: middle;\n",
       "    }\n",
       "\n",
       "    .dataframe tbody tr th {\n",
       "        vertical-align: top;\n",
       "    }\n",
       "\n",
       "    .dataframe thead th {\n",
       "        text-align: right;\n",
       "    }\n",
       "</style>\n",
       "<table border=\"1\" class=\"dataframe\">\n",
       "  <thead>\n",
       "    <tr style=\"text-align: right;\">\n",
       "      <th></th>\n",
       "      <th>Age</th>\n",
       "      <th>Mileage</th>\n",
       "      <th>Claimed</th>\n",
       "      <th>Nissan</th>\n",
       "      <th>Toyota</th>\n",
       "      <th>P</th>\n",
       "      <th>M</th>\n",
       "      <th>Blue</th>\n",
       "      <th>Green</th>\n",
       "      <th>Red</th>\n",
       "      <th>White</th>\n",
       "    </tr>\n",
       "  </thead>\n",
       "  <tbody>\n",
       "    <tr>\n",
       "      <th>0</th>\n",
       "      <td>2.000000</td>\n",
       "      <td>27000.000000</td>\n",
       "      <td>1.0</td>\n",
       "      <td>0.0</td>\n",
       "      <td>1.0</td>\n",
       "      <td>1.0</td>\n",
       "      <td>0.0</td>\n",
       "      <td>0.0</td>\n",
       "      <td>0.0</td>\n",
       "      <td>1.0</td>\n",
       "      <td>0.0</td>\n",
       "    </tr>\n",
       "    <tr>\n",
       "      <th>1</th>\n",
       "      <td>4.000000</td>\n",
       "      <td>30500.000000</td>\n",
       "      <td>1.0</td>\n",
       "      <td>0.0</td>\n",
       "      <td>0.0</td>\n",
       "      <td>1.0</td>\n",
       "      <td>1.0</td>\n",
       "      <td>0.0</td>\n",
       "      <td>0.0</td>\n",
       "      <td>0.0</td>\n",
       "      <td>0.0</td>\n",
       "    </tr>\n",
       "    <tr>\n",
       "      <th>2</th>\n",
       "      <td>15.000000</td>\n",
       "      <td>120000.000000</td>\n",
       "      <td>0.0</td>\n",
       "      <td>0.0</td>\n",
       "      <td>1.0</td>\n",
       "      <td>0.0</td>\n",
       "      <td>0.0</td>\n",
       "      <td>0.0</td>\n",
       "      <td>0.0</td>\n",
       "      <td>0.0</td>\n",
       "      <td>1.0</td>\n",
       "    </tr>\n",
       "    <tr>\n",
       "      <th>3</th>\n",
       "      <td>13.000000</td>\n",
       "      <td>53000.000000</td>\n",
       "      <td>0.0</td>\n",
       "      <td>1.0</td>\n",
       "      <td>0.0</td>\n",
       "      <td>0.0</td>\n",
       "      <td>1.0</td>\n",
       "      <td>0.0</td>\n",
       "      <td>0.0</td>\n",
       "      <td>0.0</td>\n",
       "      <td>1.0</td>\n",
       "    </tr>\n",
       "    <tr>\n",
       "      <th>4</th>\n",
       "      <td>2.000000</td>\n",
       "      <td>64722.222222</td>\n",
       "      <td>0.0</td>\n",
       "      <td>1.0</td>\n",
       "      <td>0.0</td>\n",
       "      <td>0.0</td>\n",
       "      <td>1.0</td>\n",
       "      <td>0.0</td>\n",
       "      <td>0.0</td>\n",
       "      <td>0.0</td>\n",
       "      <td>0.0</td>\n",
       "    </tr>\n",
       "    <tr>\n",
       "      <th>5</th>\n",
       "      <td>8.000000</td>\n",
       "      <td>73000.000000</td>\n",
       "      <td>0.0</td>\n",
       "      <td>0.0</td>\n",
       "      <td>0.0</td>\n",
       "      <td>0.0</td>\n",
       "      <td>1.0</td>\n",
       "      <td>0.0</td>\n",
       "      <td>1.0</td>\n",
       "      <td>0.0</td>\n",
       "      <td>0.0</td>\n",
       "    </tr>\n",
       "    <tr>\n",
       "      <th>6</th>\n",
       "      <td>9.333333</td>\n",
       "      <td>138000.000000</td>\n",
       "      <td>1.0</td>\n",
       "      <td>0.0</td>\n",
       "      <td>1.0</td>\n",
       "      <td>1.0</td>\n",
       "      <td>1.0</td>\n",
       "      <td>0.0</td>\n",
       "      <td>0.0</td>\n",
       "      <td>0.0</td>\n",
       "      <td>0.0</td>\n",
       "    </tr>\n",
       "    <tr>\n",
       "      <th>7</th>\n",
       "      <td>20.000000</td>\n",
       "      <td>38000.000000</td>\n",
       "      <td>1.0</td>\n",
       "      <td>1.0</td>\n",
       "      <td>0.0</td>\n",
       "      <td>0.0</td>\n",
       "      <td>1.0</td>\n",
       "      <td>0.0</td>\n",
       "      <td>1.0</td>\n",
       "      <td>0.0</td>\n",
       "      <td>0.0</td>\n",
       "    </tr>\n",
       "    <tr>\n",
       "      <th>8</th>\n",
       "      <td>13.000000</td>\n",
       "      <td>67000.000000</td>\n",
       "      <td>0.0</td>\n",
       "      <td>0.0</td>\n",
       "      <td>1.0</td>\n",
       "      <td>0.0</td>\n",
       "      <td>0.0</td>\n",
       "      <td>1.0</td>\n",
       "      <td>0.0</td>\n",
       "      <td>0.0</td>\n",
       "      <td>0.0</td>\n",
       "    </tr>\n",
       "    <tr>\n",
       "      <th>9</th>\n",
       "      <td>7.000000</td>\n",
       "      <td>36000.000000</td>\n",
       "      <td>1.0</td>\n",
       "      <td>1.0</td>\n",
       "      <td>0.0</td>\n",
       "      <td>1.0</td>\n",
       "      <td>1.0</td>\n",
       "      <td>0.0</td>\n",
       "      <td>0.0</td>\n",
       "      <td>0.0</td>\n",
       "      <td>0.0</td>\n",
       "    </tr>\n",
       "  </tbody>\n",
       "</table>\n",
       "</div>"
      ],
      "text/plain": [
       "         Age        Mileage  Claimed  Nissan  Toyota    P    M  Blue  Green  \\\n",
       "0   2.000000   27000.000000      1.0     0.0     1.0  1.0  0.0   0.0    0.0   \n",
       "1   4.000000   30500.000000      1.0     0.0     0.0  1.0  1.0   0.0    0.0   \n",
       "2  15.000000  120000.000000      0.0     0.0     1.0  0.0  0.0   0.0    0.0   \n",
       "3  13.000000   53000.000000      0.0     1.0     0.0  0.0  1.0   0.0    0.0   \n",
       "4   2.000000   64722.222222      0.0     1.0     0.0  0.0  1.0   0.0    0.0   \n",
       "5   8.000000   73000.000000      0.0     0.0     0.0  0.0  1.0   0.0    1.0   \n",
       "6   9.333333  138000.000000      1.0     0.0     1.0  1.0  1.0   0.0    0.0   \n",
       "7  20.000000   38000.000000      1.0     1.0     0.0  0.0  1.0   0.0    1.0   \n",
       "8  13.000000   67000.000000      0.0     0.0     1.0  0.0  0.0   1.0    0.0   \n",
       "9   7.000000   36000.000000      1.0     1.0     0.0  1.0  1.0   0.0    0.0   \n",
       "\n",
       "   Red  White  \n",
       "0  1.0    0.0  \n",
       "1  0.0    0.0  \n",
       "2  0.0    1.0  \n",
       "3  0.0    1.0  \n",
       "4  0.0    0.0  \n",
       "5  0.0    0.0  \n",
       "6  0.0    0.0  \n",
       "7  0.0    0.0  \n",
       "8  0.0    0.0  \n",
       "9  0.0    0.0  "
      ]
     },
     "execution_count": 34,
     "metadata": {},
     "output_type": "execute_result"
    }
   ],
   "source": [
    "df"
   ]
  },
  {
   "cell_type": "markdown",
   "id": "1bd51acb",
   "metadata": {},
   "source": [
    "# The Standardization is successful since our dataset does not have any null value. \n",
    "\n",
    "Normalization operation can be carried out using the STANDARDSCALER utility class for preprocessing"
   ]
  },
  {
   "cell_type": "code",
   "execution_count": 35,
   "id": "5803ee94",
   "metadata": {},
   "outputs": [],
   "source": [
    "from sklearn import preprocessing\n",
    "\n",
    "x = df.iloc[:,:-1].values\n",
    "Y = df.iloc[:,-1].values"
   ]
  },
  {
   "cell_type": "code",
   "execution_count": 38,
   "id": "0ec26910",
   "metadata": {},
   "outputs": [],
   "source": [
    "scaler = preprocessing.StandardScaler().fit(x)"
   ]
  },
  {
   "cell_type": "code",
   "execution_count": 39,
   "id": "2422419e",
   "metadata": {},
   "outputs": [
    {
     "data": {
      "text/plain": [
       "array([9.33333333e+00, 6.47222222e+04, 5.00000000e-01, 4.00000000e-01,\n",
       "       4.00000000e-01, 4.00000000e-01, 7.00000000e-01, 1.00000000e-01,\n",
       "       2.00000000e-01, 1.00000000e-01])"
      ]
     },
     "execution_count": 39,
     "metadata": {},
     "output_type": "execute_result"
    }
   ],
   "source": [
    "scaler.mean_"
   ]
  },
  {
   "cell_type": "code",
   "execution_count": 40,
   "id": "19025cc3",
   "metadata": {},
   "outputs": [
    {
     "data": {
      "text/plain": [
       "array([5.62138773e+00, 3.57345149e+04, 5.00000000e-01, 4.89897949e-01,\n",
       "       4.89897949e-01, 4.89897949e-01, 4.58257569e-01, 3.00000000e-01,\n",
       "       4.00000000e-01, 3.00000000e-01])"
      ]
     },
     "execution_count": 40,
     "metadata": {},
     "output_type": "execute_result"
    }
   ],
   "source": [
    "scaler.scale_"
   ]
  },
  {
   "cell_type": "code",
   "execution_count": 41,
   "id": "26aeefd1",
   "metadata": {},
   "outputs": [],
   "source": [
    "X_scaled = scaler.transform(x)"
   ]
  },
  {
   "cell_type": "code",
   "execution_count": 45,
   "id": "6d2c3d96",
   "metadata": {},
   "outputs": [
    {
     "data": {
      "text/plain": [
       "array([[-1.30454146e+00, -1.05562430e+00,  1.00000000e+00,\n",
       "        -8.16496581e-01,  1.22474487e+00,  1.22474487e+00,\n",
       "        -1.52752523e+00, -3.33333333e-01, -5.00000000e-01,\n",
       "         3.00000000e+00],\n",
       "       [-9.48757423e-01, -9.57679776e-01,  1.00000000e+00,\n",
       "        -8.16496581e-01, -8.16496581e-01,  1.22474487e+00,\n",
       "         6.54653671e-01, -3.33333333e-01, -5.00000000e-01,\n",
       "        -3.33333333e-01],\n",
       "       [ 1.00805476e+00,  1.54690159e+00, -1.00000000e+00,\n",
       "        -8.16496581e-01,  1.22474487e+00, -8.16496581e-01,\n",
       "        -1.52752523e+00, -3.33333333e-01, -5.00000000e-01,\n",
       "        -3.33333333e-01],\n",
       "       [ 6.52270728e-01, -3.28036417e-01, -1.00000000e+00,\n",
       "         1.22474487e+00, -8.16496581e-01, -8.16496581e-01,\n",
       "         6.54653671e-01, -3.33333333e-01, -5.00000000e-01,\n",
       "        -3.33333333e-01],\n",
       "       [-1.30454146e+00, -2.03611484e-16, -1.00000000e+00,\n",
       "         1.22474487e+00, -8.16496581e-01, -8.16496581e-01,\n",
       "         6.54653671e-01, -3.33333333e-01, -5.00000000e-01,\n",
       "        -3.33333333e-01],\n",
       "       [-2.37189356e-01,  2.31646569e-01, -1.00000000e+00,\n",
       "        -8.16496581e-01, -8.16496581e-01, -8.16496581e-01,\n",
       "         6.54653671e-01, -3.33333333e-01,  2.00000000e+00,\n",
       "        -3.33333333e-01],\n",
       "       [ 0.00000000e+00,  2.05061627e+00,  1.00000000e+00,\n",
       "        -8.16496581e-01,  1.22474487e+00,  1.22474487e+00,\n",
       "         6.54653671e-01, -3.33333333e-01, -5.00000000e-01,\n",
       "        -3.33333333e-01],\n",
       "       [ 1.89751485e+00, -7.47798656e-01,  1.00000000e+00,\n",
       "         1.22474487e+00, -8.16496581e-01, -8.16496581e-01,\n",
       "         6.54653671e-01, -3.33333333e-01,  2.00000000e+00,\n",
       "        -3.33333333e-01],\n",
       "       [ 6.52270728e-01,  6.37416734e-02, -1.00000000e+00,\n",
       "        -8.16496581e-01,  1.22474487e+00, -8.16496581e-01,\n",
       "        -1.52752523e+00,  3.00000000e+00, -5.00000000e-01,\n",
       "        -3.33333333e-01],\n",
       "       [-4.15081372e-01, -8.03766955e-01,  1.00000000e+00,\n",
       "         1.22474487e+00, -8.16496581e-01,  1.22474487e+00,\n",
       "         6.54653671e-01, -3.33333333e-01, -5.00000000e-01,\n",
       "        -3.33333333e-01]])"
      ]
     },
     "execution_count": 45,
     "metadata": {},
     "output_type": "execute_result"
    }
   ],
   "source": [
    "X_scaled"
   ]
  },
  {
   "cell_type": "markdown",
   "id": "0caa0bfb",
   "metadata": {},
   "source": [
    "# An alternative standardization is scaling features to lie between a given minimum and maximum value, often between zero and one, or so that the maximum absolute value of each feature is scaled to unit size. This can be achieved using MinMaxScaler.\n"
   ]
  },
  {
   "cell_type": "code",
   "execution_count": 46,
   "id": "7280e1e1",
   "metadata": {},
   "outputs": [
    {
     "data": {
      "text/plain": [
       "array([[0.        , 0.        , 1.        , 0.        , 1.        ,\n",
       "        1.        , 0.        , 0.        , 0.        , 1.        ],\n",
       "       [0.11111111, 0.03153153, 1.        , 0.        , 0.        ,\n",
       "        1.        , 1.        , 0.        , 0.        , 0.        ],\n",
       "       [0.72222222, 0.83783784, 0.        , 0.        , 1.        ,\n",
       "        0.        , 0.        , 0.        , 0.        , 0.        ],\n",
       "       [0.61111111, 0.23423423, 0.        , 1.        , 0.        ,\n",
       "        0.        , 1.        , 0.        , 0.        , 0.        ],\n",
       "       [0.        , 0.33983984, 0.        , 1.        , 0.        ,\n",
       "        0.        , 1.        , 0.        , 0.        , 0.        ],\n",
       "       [0.33333333, 0.41441441, 0.        , 0.        , 0.        ,\n",
       "        0.        , 1.        , 0.        , 1.        , 0.        ],\n",
       "       [0.40740741, 1.        , 1.        , 0.        , 1.        ,\n",
       "        1.        , 1.        , 0.        , 0.        , 0.        ],\n",
       "       [1.        , 0.0990991 , 1.        , 1.        , 0.        ,\n",
       "        0.        , 1.        , 0.        , 1.        , 0.        ],\n",
       "       [0.61111111, 0.36036036, 0.        , 0.        , 1.        ,\n",
       "        0.        , 0.        , 1.        , 0.        , 0.        ],\n",
       "       [0.27777778, 0.08108108, 1.        , 1.        , 0.        ,\n",
       "        1.        , 1.        , 0.        , 0.        , 0.        ]])"
      ]
     },
     "execution_count": 46,
     "metadata": {},
     "output_type": "execute_result"
    }
   ],
   "source": [
    "min_max_scaler = preprocessing.MinMaxScaler()\n",
    "X_minmax = min_max_scaler.fit_transform(x)\n",
    "X_minmax"
   ]
  },
  {
   "cell_type": "code",
   "execution_count": null,
   "id": "9f6111a8",
   "metadata": {},
   "outputs": [],
   "source": [
    "A cleaned dataset to some extent"
   ]
  }
 ],
 "metadata": {
  "kernelspec": {
   "display_name": "Python 3 (ipykernel)",
   "language": "python",
   "name": "python3"
  },
  "language_info": {
   "codemirror_mode": {
    "name": "ipython",
    "version": 3
   },
   "file_extension": ".py",
   "mimetype": "text/x-python",
   "name": "python",
   "nbconvert_exporter": "python",
   "pygments_lexer": "ipython3",
   "version": "3.11.5"
  }
 },
 "nbformat": 4,
 "nbformat_minor": 5
}
